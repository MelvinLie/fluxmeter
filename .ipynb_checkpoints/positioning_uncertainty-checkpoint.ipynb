{
 "cells": [
  {
   "cell_type": "markdown",
   "metadata": {},
   "source": [
    "# Translating Fluxmeter Analysis"
   ]
  },
  {
   "cell_type": "markdown",
   "metadata": {},
   "source": [
    "## Theory\n",
    "Consider a rectangular wire-loop, moving through the magnetic field as illustrated in the next figure."
   ]
  },
  {
   "cell_type": "markdown",
   "metadata": {},
   "source": [
    "![title](figs/fluxmeter_active_area.png)"
   ]
  },
  {
   "cell_type": "markdown",
   "metadata": {},
   "source": [
    "The induced voltage is given by Faradays law, for which we obtain in this case:\n",
    "$$V(t) = \\int_{\\partial\\mathcal{A}(t)} \\mathbf{v}(t)\\times \\mathbf{B}(\\mathbf{r}(t))\\,\\mathrm{d}\\mathbf{r}$$\n",
    "Lets consider the case as depicted in the previous figure, where $\\mathbf{v} = v(t)\\,\\mathbf{e}_z$, and $\\mathcal{A} = \\{(x,y,z)\\,|\\,-w/2<x<w/2\\, ,\\,y = 0 \\, ,\\, -l/2<x<l/2.\\}$"
   ]
  },
  {
   "cell_type": "markdown",
   "metadata": {},
   "source": [
    "In this case $V(t)$ is given by:\n",
    "$$V(t) = \\int_{-w/2}^{w/2} v(t) \\, B_y(x,0,z_c(t)+l/2)\\,\\mathrm{d}x - \\int_{-w/2}^{w/2} v(t) \\, B_y(x,0,z_c(t)-l/2)\\,\\mathrm{d}x$$\n",
    "$$V(t) = v(t) \\, \\left(\\int_{-w/2}^{w/2} B_y(x,0,z_c(t)+l/2)\\,\\mathrm{d}x - \\int_{-w/2}^{w/2}  B_y(x,0,z_c(t)-l/2)\\,\\mathrm{d}x\\right)$$\n",
    "with $z_c(t)$ denoting the center of the coil over time. Note that we have: $v(t) = \\partial z_c(t)/\\partial t=\\dot{z}_c(t)$."
   ]
  },
  {
   "cell_type": "markdown",
   "metadata": {},
   "source": [
    "We use digital integrators, to integrate the Voltage between two longitudinal positions $z_c(t_{k+1})$, $z_c(t_k)$. The output will be related to the difference in magnetic flux linked with the two gray areas in the previous plot. Let us denote by $\\Delta \\Phi$ the integral of $V(t)$ from $t_k$ to $t_{k+1}$:"
   ]
  },
  {
   "cell_type": "markdown",
   "metadata": {},
   "source": [
    "$$\\Delta \\Phi = \\int_{t_k}^{t_{k+1}} \\dot{z}_c(t) \\, \\int_{-w/2}^{w/2} B_y(x,0,z_c(t)+l/2)\\,\\mathrm{d}x\\,\\mathrm{d}t - \\int_{t_k}^{t_{k+1}}\\dot{z}_c(t) \\,\\int_{-w/2}^{w/2}  B_y(x,0,z_c(t)-l/2)\\,\\mathrm{d}x\\,\\mathrm{d}t$$"
   ]
  },
  {
   "cell_type": "markdown",
   "metadata": {},
   "source": [
    "We can reprarameterise the outer intergals by substitution of $z = z_c(t)$. Not that it holds:\n",
    "$$\\int_a^b f(g(x))\\dot{g}(t) \\,d t = \\int_{g(a)}^{g(b)}f(t)\\,dt$$\n",
    "yielding:\n",
    "$$\\Delta \\Phi = \\int_{z_c(t_k)}^{z_c(t_{k+1})} \\int_{-w/2}^{w/2} B_y(x,0,z+l/2)\\,\\mathrm{d}x\\,\\mathrm{d}z - \\int_{z_c(t_k)}^{z_c(t_{k+1})}\\int_{-w/2}^{w/2}  B_y(x,0,z-l/2)\\,\\mathrm{d}x\\,\\mathrm{d}z$$"
   ]
  },
  {
   "cell_type": "markdown",
   "metadata": {},
   "source": [
    "We will make use of fast digital integrators, triggered by a linear encoder. The integration intervals $z_c(t_k)$ and $z_c(t_{k+1})$ are thus known longitudinal positions $z_k$ and $z_{k+1}$."
   ]
  },
  {
   "cell_type": "markdown",
   "metadata": {},
   "source": [
    "We find that the integrals correspond to fluxes through the areas, spanned by leading and lagging side of the coil. We will introduce the following notation to simplify the upcoming derivations:\n",
    "$$\\int_{z_k}^{z_{k+1}} \\int_{-w/2}^{w/2} B_y(x,0,z+l/2)\\,\\mathrm{d}x\\,\\mathrm{d}z  = \\Psi\\biggr\\lvert_{z_k+l/2}^{z_{k+1}+l/2}$$\n",
    "With the antiderivative $\\Psi(z)$ of  $\\overline{B}_y(z) =\\int_{-w/2}^{w/2} B_y(x,0,z)\\,\\mathrm{d}x$, with respect to $z$.<br>\n",
    "Note that a magnetic flux linked with a surface between the positions $z_k$ and $z_{k+1}$ is related to $\\Psi$ by:\n",
    "$$\\Phi = \\Psi(z_{k+1})-\\Psi(z_k)$$\n",
    "We can now simplify further:\n",
    "$$\\Delta \\Phi = \\Psi\\biggr\\lvert_{z_k+l/2}^{z_{k+1}+l/2} -\\Psi\\biggr\\lvert_{z_k-l/2}^{z_{k+1}-l/2} = \\Psi\\biggr\\lvert_{z_{k+1}-l/2}^{z_{k+1}+l/2} -\\Psi\\biggr\\lvert_{z_k-l/2}^{z_{k}+l/2} $$\n",
    "Where in the last line we see that $\\Delta \\Psi$ is equal to the flux difference, linked with the overall coil surface between the positions $z_{k+1}$ and $z_k$."
   ]
  },
  {
   "cell_type": "markdown",
   "metadata": {},
   "source": [
    "## Positioning uncertainties"
   ]
  },
  {
   "cell_type": "markdown",
   "metadata": {},
   "source": [
    "In real measurements, these positions cannot be hit perfecty and the positions $z_k$ will be affected by uncertainties.<br>"
   ]
  },
  {
   "cell_type": "markdown",
   "metadata": {},
   "source": [
    "Lets condider the positioning errors $\\zeta_k$ and $\\zeta_{k+1}$ affecting $z_k$ and $z_{k+1}$ yielding:\n",
    "$$\\Delta \\Phi = \\Psi\\biggr\\lvert_{z_{k+1}+\\zeta_{k+1}-l/2}^{z_{k+1}+\\zeta_{k+1}+l/2} -\\Psi\\biggr\\lvert_{z_k+\\zeta_k-l/2}^{z_{k}+\\zeta_k+l/2} $$"
   ]
  },
  {
   "cell_type": "markdown",
   "metadata": {},
   "source": [
    "We will now look at the first term $ \\Psi\\biggr\\lvert_{z_{k+1}+\\zeta_{k+1}-l/2}^{z_{k+1}+\\zeta_{k+1}+l/2}$ and expand $\\Psi(z)$ by a Taylor series around $z_{k+1}$:\n",
    "$$\\Psi(z) = \\Psi(z_{k+1})+\\frac{\\partial\\Psi(z)}{\\partial z}\\biggr\\lvert_{z_{k+1}}\\zeta_{k+1} + \\mathcal{O}(\\zeta_{k+1}^2)$$\n",
    "yielding:\n",
    "$$\\Psi\\biggr\\lvert_{z_{k+1}+\\xi-l/2}^{z_{k+1}+\\zeta_{k+1}+l/2} \\approx\\Psi(z_{k+1}+l/2) -  \\Psi(z_{k+1}-l/2)+\\zeta_{k+1}\\left(\\frac{\\partial\\Psi(z)}{\\partial z}\\biggr\\lvert_{z_{k+1}+l/2}-\\frac{\\partial\\Psi(z)}{\\partial z}\\biggr\\lvert_{z_{k+1}-l/2} \\right)$$\n",
    "neglecting higher ordered effects (considering $\\zeta_{k+1} << 1$).<br>\n",
    "\n",
    "We thus find:\n",
    "$$\\Psi\\biggr\\lvert_{z_{k+1}+\\zeta_{k+1}-l/2}^{z_{k+1}+\\zeta_{k+1}+l/2} \\approx\\Psi\\biggr\\lvert_{z_{k+1}-l/2}^{z_{k+1}+l/2}+\\zeta_{k+1}\\left(\\overline{B}_y(z_{k+1}+l/2) - \\overline{B}_y(z_{k+1}-l/2)  \\right)$$"
   ]
  },
  {
   "cell_type": "markdown",
   "metadata": {},
   "source": [
    "The fist term corresponds to the magnetic flux intercepted by the coil at $z_{k+1}$. Positioning errors thus scale with the flux density difference between the coils leading and lagging side.<br>\n",
    "One can minimize the effects by reducing the coil length $l$. In the limit $l\\to 0$, one ends up with the derivative $\\partial \\overline{B}_y(z)/\\partial z$, which is of course infeasible."
   ]
  },
  {
   "cell_type": "markdown",
   "metadata": {},
   "source": [
    "Dealing with the uncertainty in $z_k$ in the very same way we obtain:\n",
    "$$\\Delta \\Phi \\approx \\Psi\\biggr\\lvert_{z_{k+1}-l/2}^{z_{k+1}+l/2}-\\Psi\\biggr\\lvert_{z_{k}-l/2}^{z_{k}+l/2}+\\zeta_{k+1}\\left(\\overline{B}_y(z_{k+1}+l/2) - \\overline{B}_y(z_{k+1}-l/2)  \\right) - \\zeta_k\\left(\\overline{B}_y(z_{k}+l/2) - \\overline{B}_y(z_{k}-l/2)  \\right)$$"
   ]
  },
  {
   "cell_type": "markdown",
   "metadata": {},
   "source": [
    "As expected, positioning uncertainties scale with the field difference between leading and lagging side of the sensor.<br>\n",
    "Let's now take a look at the real measurements:\n",
    "![title](figs/delta_flux.png)"
   ]
  },
  {
   "cell_type": "markdown",
   "metadata": {},
   "source": [
    "In the above picture, we take a look at the mean value of $\\Delta \\Phi$ measurements at different positions of the magnet.<br>\n",
    "On the bottom we plot the variation and we clearly observe a scaling according to $\\partial \\overline{B}_y(z)/\\partial z$ as it can be explained by positioning uncertainites."
   ]
  },
  {
   "cell_type": "markdown",
   "metadata": {},
   "source": [
    "Besides positioning errors, the variation could result from sensor vibrations."
   ]
  },
  {
   "cell_type": "markdown",
   "metadata": {},
   "source": [
    "## Sensor Vibrations"
   ]
  },
  {
   "cell_type": "markdown",
   "metadata": {},
   "source": [
    "We now take a look at a coil that is affected by mechanical vibrations."
   ]
  }
 ],
 "metadata": {
  "kernelspec": {
   "display_name": "Python 3",
   "language": "python",
   "name": "python3"
  },
  "language_info": {
   "codemirror_mode": {
    "name": "ipython",
    "version": 3
   },
   "file_extension": ".py",
   "mimetype": "text/x-python",
   "name": "python",
   "nbconvert_exporter": "python",
   "pygments_lexer": "ipython3",
   "version": "3.7.3"
  }
 },
 "nbformat": 4,
 "nbformat_minor": 2
}
